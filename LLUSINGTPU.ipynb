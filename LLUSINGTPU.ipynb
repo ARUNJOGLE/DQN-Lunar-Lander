{
  "nbformat": 4,
  "nbformat_minor": 0,
  "metadata": {
    "colab": {
      "provenance": [],
      "gpuType": "V28"
    },
    "kernelspec": {
      "name": "python3",
      "display_name": "Python 3"
    },
    "language_info": {
      "name": "python"
    },
    "accelerator": "TPU"
  },
  "cells": [
    {
      "cell_type": "code",
      "source": [
        "!pip install gymnasium\n",
        "!pip install stable-baselines3\n",
        "!pip install pyvirtualdisplay\n",
        "!apt-get install -y xvfb python-opengl ffmpeg\n",
        "!pip install imageio-ffmpeg\n",
        "!pip install pyvirtualdisplay\n",
        "!pip install gym\n",
        "!pip install gym[box2d]"
      ],
      "metadata": {
        "colab": {
          "base_uri": "https://localhost:8080/"
        },
        "id": "0Z6SYTa8DwCd",
        "outputId": "76466eaa-ae28-495f-884f-931daf64705d"
      },
      "execution_count": null,
      "outputs": [
        {
          "output_type": "stream",
          "name": "stdout",
          "text": [
            "Collecting gymnasium\n",
            "  Downloading gymnasium-0.29.1-py3-none-any.whl.metadata (10 kB)\n",
            "Requirement already satisfied: numpy>=1.21.0 in /usr/local/lib/python3.10/dist-packages (from gymnasium) (1.26.4)\n",
            "Requirement already satisfied: cloudpickle>=1.2.0 in /usr/local/lib/python3.10/dist-packages (from gymnasium) (2.2.1)\n",
            "Requirement already satisfied: typing-extensions>=4.3.0 in /usr/local/lib/python3.10/dist-packages (from gymnasium) (4.12.2)\n",
            "Collecting farama-notifications>=0.0.1 (from gymnasium)\n",
            "  Downloading Farama_Notifications-0.0.4-py3-none-any.whl.metadata (558 bytes)\n",
            "Downloading gymnasium-0.29.1-py3-none-any.whl (953 kB)\n",
            "\u001b[2K   \u001b[90m━━━━━━━━━━━━━━━━━━━━━━━━━━━━━━━━━━━━━━━━\u001b[0m \u001b[32m953.9/953.9 kB\u001b[0m \u001b[31m15.8 MB/s\u001b[0m eta \u001b[36m0:00:00\u001b[0m\n",
            "\u001b[?25hDownloading Farama_Notifications-0.0.4-py3-none-any.whl (2.5 kB)\n",
            "Installing collected packages: farama-notifications, gymnasium\n",
            "Successfully installed farama-notifications-0.0.4 gymnasium-0.29.1\n",
            "Collecting stable-baselines3\n",
            "  Downloading stable_baselines3-2.3.2-py3-none-any.whl.metadata (5.1 kB)\n",
            "Requirement already satisfied: gymnasium<0.30,>=0.28.1 in /usr/local/lib/python3.10/dist-packages (from stable-baselines3) (0.29.1)\n",
            "Requirement already satisfied: numpy>=1.20 in /usr/local/lib/python3.10/dist-packages (from stable-baselines3) (1.26.4)\n",
            "Requirement already satisfied: torch>=1.13 in /usr/local/lib/python3.10/dist-packages (from stable-baselines3) (2.4.1+cu121)\n",
            "Requirement already satisfied: cloudpickle in /usr/local/lib/python3.10/dist-packages (from stable-baselines3) (2.2.1)\n",
            "Requirement already satisfied: pandas in /usr/local/lib/python3.10/dist-packages (from stable-baselines3) (2.1.4)\n",
            "Requirement already satisfied: matplotlib in /usr/local/lib/python3.10/dist-packages (from stable-baselines3) (3.7.1)\n",
            "Requirement already satisfied: typing-extensions>=4.3.0 in /usr/local/lib/python3.10/dist-packages (from gymnasium<0.30,>=0.28.1->stable-baselines3) (4.12.2)\n",
            "Requirement already satisfied: farama-notifications>=0.0.1 in /usr/local/lib/python3.10/dist-packages (from gymnasium<0.30,>=0.28.1->stable-baselines3) (0.0.4)\n",
            "Requirement already satisfied: filelock in /usr/local/lib/python3.10/dist-packages (from torch>=1.13->stable-baselines3) (3.16.1)\n",
            "Requirement already satisfied: sympy in /usr/local/lib/python3.10/dist-packages (from torch>=1.13->stable-baselines3) (1.13.3)\n",
            "Requirement already satisfied: networkx in /usr/local/lib/python3.10/dist-packages (from torch>=1.13->stable-baselines3) (3.3)\n",
            "Requirement already satisfied: jinja2 in /usr/local/lib/python3.10/dist-packages (from torch>=1.13->stable-baselines3) (3.1.4)\n",
            "Requirement already satisfied: fsspec in /usr/local/lib/python3.10/dist-packages (from torch>=1.13->stable-baselines3) (2024.6.1)\n",
            "Requirement already satisfied: contourpy>=1.0.1 in /usr/local/lib/python3.10/dist-packages (from matplotlib->stable-baselines3) (1.3.0)\n",
            "Requirement already satisfied: cycler>=0.10 in /usr/local/lib/python3.10/dist-packages (from matplotlib->stable-baselines3) (0.12.1)\n",
            "Requirement already satisfied: fonttools>=4.22.0 in /usr/local/lib/python3.10/dist-packages (from matplotlib->stable-baselines3) (4.53.1)\n",
            "Requirement already satisfied: kiwisolver>=1.0.1 in /usr/local/lib/python3.10/dist-packages (from matplotlib->stable-baselines3) (1.4.7)\n",
            "Requirement already satisfied: packaging>=20.0 in /usr/local/lib/python3.10/dist-packages (from matplotlib->stable-baselines3) (24.1)\n",
            "Requirement already satisfied: pillow>=6.2.0 in /usr/local/lib/python3.10/dist-packages (from matplotlib->stable-baselines3) (10.4.0)\n",
            "Requirement already satisfied: pyparsing>=2.3.1 in /usr/local/lib/python3.10/dist-packages (from matplotlib->stable-baselines3) (3.1.4)\n",
            "Requirement already satisfied: python-dateutil>=2.7 in /usr/local/lib/python3.10/dist-packages (from matplotlib->stable-baselines3) (2.8.2)\n",
            "Requirement already satisfied: pytz>=2020.1 in /usr/local/lib/python3.10/dist-packages (from pandas->stable-baselines3) (2024.2)\n",
            "Requirement already satisfied: tzdata>=2022.1 in /usr/local/lib/python3.10/dist-packages (from pandas->stable-baselines3) (2024.1)\n",
            "Requirement already satisfied: six>=1.5 in /usr/local/lib/python3.10/dist-packages (from python-dateutil>=2.7->matplotlib->stable-baselines3) (1.16.0)\n",
            "Requirement already satisfied: MarkupSafe>=2.0 in /usr/local/lib/python3.10/dist-packages (from jinja2->torch>=1.13->stable-baselines3) (2.1.5)\n",
            "Requirement already satisfied: mpmath<1.4,>=1.1.0 in /usr/local/lib/python3.10/dist-packages (from sympy->torch>=1.13->stable-baselines3) (1.3.0)\n",
            "Downloading stable_baselines3-2.3.2-py3-none-any.whl (182 kB)\n",
            "\u001b[2K   \u001b[90m━━━━━━━━━━━━━━━━━━━━━━━━━━━━━━━━━━━━━━━━\u001b[0m \u001b[32m182.3/182.3 kB\u001b[0m \u001b[31m4.4 MB/s\u001b[0m eta \u001b[36m0:00:00\u001b[0m\n",
            "\u001b[?25hInstalling collected packages: stable-baselines3\n",
            "Successfully installed stable-baselines3-2.3.2\n",
            "Collecting pyvirtualdisplay\n",
            "  Downloading PyVirtualDisplay-3.0-py3-none-any.whl.metadata (943 bytes)\n",
            "Downloading PyVirtualDisplay-3.0-py3-none-any.whl (15 kB)\n",
            "Installing collected packages: pyvirtualdisplay\n",
            "Successfully installed pyvirtualdisplay-3.0\n",
            "Reading package lists... Done\n",
            "Building dependency tree... Done\n",
            "Reading state information... Done\n",
            "E: Unable to locate package python-opengl\n",
            "Requirement already satisfied: imageio-ffmpeg in /usr/local/lib/python3.10/dist-packages (0.5.1)\n",
            "Requirement already satisfied: setuptools in /usr/local/lib/python3.10/dist-packages (from imageio-ffmpeg) (71.0.4)\n",
            "Requirement already satisfied: pyvirtualdisplay in /usr/local/lib/python3.10/dist-packages (3.0)\n",
            "Requirement already satisfied: gym in /usr/local/lib/python3.10/dist-packages (0.25.2)\n",
            "Requirement already satisfied: numpy>=1.18.0 in /usr/local/lib/python3.10/dist-packages (from gym) (1.26.4)\n",
            "Requirement already satisfied: cloudpickle>=1.2.0 in /usr/local/lib/python3.10/dist-packages (from gym) (2.2.1)\n",
            "Requirement already satisfied: gym-notices>=0.0.4 in /usr/local/lib/python3.10/dist-packages (from gym) (0.0.8)\n",
            "Requirement already satisfied: gym[box2d] in /usr/local/lib/python3.10/dist-packages (0.25.2)\n",
            "Requirement already satisfied: numpy>=1.18.0 in /usr/local/lib/python3.10/dist-packages (from gym[box2d]) (1.26.4)\n",
            "Requirement already satisfied: cloudpickle>=1.2.0 in /usr/local/lib/python3.10/dist-packages (from gym[box2d]) (2.2.1)\n",
            "Requirement already satisfied: gym-notices>=0.0.4 in /usr/local/lib/python3.10/dist-packages (from gym[box2d]) (0.0.8)\n",
            "Collecting box2d-py==2.3.5 (from gym[box2d])\n",
            "  Downloading box2d-py-2.3.5.tar.gz (374 kB)\n",
            "\u001b[2K     \u001b[90m━━━━━━━━━━━━━━━━━━━━━━━━━━━━━━━━━━━━━━━━\u001b[0m \u001b[32m374.4/374.4 kB\u001b[0m \u001b[31m9.6 MB/s\u001b[0m eta \u001b[36m0:00:00\u001b[0m\n",
            "\u001b[?25h  Preparing metadata (setup.py) ... \u001b[?25l\u001b[?25hdone\n",
            "Collecting pygame==2.1.0 (from gym[box2d])\n",
            "  Downloading pygame-2.1.0-cp310-cp310-manylinux_2_17_x86_64.manylinux2014_x86_64.whl.metadata (9.5 kB)\n",
            "Collecting swig==4.* (from gym[box2d])\n",
            "  Downloading swig-4.2.1-py2.py3-none-manylinux_2_5_x86_64.manylinux1_x86_64.whl.metadata (3.6 kB)\n",
            "Downloading pygame-2.1.0-cp310-cp310-manylinux_2_17_x86_64.manylinux2014_x86_64.whl (18.3 MB)\n",
            "\u001b[2K   \u001b[90m━━━━━━━━━━━━━━━━━━━━━━━━━━━━━━━━━━━━━━━━\u001b[0m \u001b[32m18.3/18.3 MB\u001b[0m \u001b[31m51.0 MB/s\u001b[0m eta \u001b[36m0:00:00\u001b[0m\n",
            "\u001b[?25hDownloading swig-4.2.1-py2.py3-none-manylinux_2_5_x86_64.manylinux1_x86_64.whl (1.9 MB)\n",
            "\u001b[2K   \u001b[90m━━━━━━━━━━━━━━━━━━━━━━━━━━━━━━━━━━━━━━━━\u001b[0m \u001b[32m1.9/1.9 MB\u001b[0m \u001b[31m43.6 MB/s\u001b[0m eta \u001b[36m0:00:00\u001b[0m\n",
            "\u001b[?25hBuilding wheels for collected packages: box2d-py\n",
            "  \u001b[1;31merror\u001b[0m: \u001b[1msubprocess-exited-with-error\u001b[0m\n",
            "  \n",
            "  \u001b[31m×\u001b[0m \u001b[32mpython setup.py bdist_wheel\u001b[0m did not run successfully.\n",
            "  \u001b[31m│\u001b[0m exit code: \u001b[1;36m1\u001b[0m\n",
            "  \u001b[31m╰─>\u001b[0m See above for output.\n",
            "  \n",
            "  \u001b[1;35mnote\u001b[0m: This error originates from a subprocess, and is likely not a problem with pip.\n",
            "  Building wheel for box2d-py (setup.py) ... \u001b[?25lerror\n",
            "\u001b[31m  ERROR: Failed building wheel for box2d-py\u001b[0m\u001b[31m\n",
            "\u001b[0m\u001b[?25h  Running setup.py clean for box2d-py\n",
            "Failed to build box2d-py\n",
            "\u001b[31mERROR: ERROR: Failed to build installable wheels for some pyproject.toml based projects (box2d-py)\u001b[0m\u001b[31m\n",
            "\u001b[0m"
          ]
        }
      ]
    },
    {
      "cell_type": "code",
      "source": [
        "!sudo apt-get install swig\n",
        "!pip install box2d-py"
      ],
      "metadata": {
        "colab": {
          "base_uri": "https://localhost:8080/"
        },
        "id": "bSNYPCnjEFbC",
        "outputId": "639800c5-61fd-4446-aaf5-720a61ebb88b"
      },
      "execution_count": null,
      "outputs": [
        {
          "output_type": "stream",
          "name": "stdout",
          "text": [
            "Reading package lists... Done\n",
            "Building dependency tree... Done\n",
            "Reading state information... Done\n",
            "The following additional packages will be installed:\n",
            "  swig4.0\n",
            "Suggested packages:\n",
            "  swig-doc swig-examples swig4.0-examples swig4.0-doc\n",
            "The following NEW packages will be installed:\n",
            "  swig swig4.0\n",
            "0 upgraded, 2 newly installed, 0 to remove and 0 not upgraded.\n",
            "Need to get 1,116 kB of archives.\n",
            "After this operation, 5,542 kB of additional disk space will be used.\n",
            "Get:1 http://archive.ubuntu.com/ubuntu jammy/universe amd64 swig4.0 amd64 4.0.2-1ubuntu1 [1,110 kB]\n",
            "Get:2 http://archive.ubuntu.com/ubuntu jammy/universe amd64 swig all 4.0.2-1ubuntu1 [5,632 B]\n",
            "Fetched 1,116 kB in 1s (916 kB/s)\n",
            "debconf: unable to initialize frontend: Dialog\n",
            "debconf: (No usable dialog-like program is installed, so the dialog based frontend cannot be used. at /usr/share/perl5/Debconf/FrontEnd/Dialog.pm line 78, <> line 2.)\n",
            "debconf: falling back to frontend: Readline\n",
            "debconf: unable to initialize frontend: Readline\n",
            "debconf: (This frontend requires a controlling tty.)\n",
            "debconf: falling back to frontend: Teletype\n",
            "dpkg-preconfigure: unable to re-open stdin: \n",
            "Selecting previously unselected package swig4.0.\n",
            "(Reading database ... 119625 files and directories currently installed.)\n",
            "Preparing to unpack .../swig4.0_4.0.2-1ubuntu1_amd64.deb ...\n",
            "Unpacking swig4.0 (4.0.2-1ubuntu1) ...\n",
            "Selecting previously unselected package swig.\n",
            "Preparing to unpack .../swig_4.0.2-1ubuntu1_all.deb ...\n",
            "Unpacking swig (4.0.2-1ubuntu1) ...\n",
            "Setting up swig4.0 (4.0.2-1ubuntu1) ...\n",
            "Setting up swig (4.0.2-1ubuntu1) ...\n",
            "Processing triggers for man-db (2.10.2-1) ...\n",
            "Collecting box2d-py\n",
            "  Downloading box2d-py-2.3.8.tar.gz (374 kB)\n",
            "\u001b[2K     \u001b[90m━━━━━━━━━━━━━━━━━━━━━━━━━━━━━━━━━━━━━━━━\u001b[0m \u001b[32m374.5/374.5 kB\u001b[0m \u001b[31m6.1 MB/s\u001b[0m eta \u001b[36m0:00:00\u001b[0m\n",
            "\u001b[?25h  Preparing metadata (setup.py) ... \u001b[?25l\u001b[?25hdone\n",
            "Building wheels for collected packages: box2d-py\n",
            "  Building wheel for box2d-py (setup.py) ... \u001b[?25l\u001b[?25hdone\n",
            "  Created wheel for box2d-py: filename=box2d_py-2.3.8-cp310-cp310-linux_x86_64.whl size=2349113 sha256=6fa5e2b6a36076f29fe9913ec64f46f55f9f621051e5e8ff89849012aafb652d\n",
            "  Stored in directory: /root/.cache/pip/wheels/47/01/d2/6a780da77ccb98b1d2facdd520a8d10838a03b590f6f8d50c0\n",
            "Successfully built box2d-py\n",
            "Installing collected packages: box2d-py\n",
            "Successfully installed box2d-py-2.3.8\n"
          ]
        }
      ]
    },
    {
      "cell_type": "code",
      "source": [
        "import io\n",
        "import os\n",
        "import glob\n",
        "import torch\n",
        "import base64\n",
        "\n",
        "import numpy as np\n",
        "import matplotlib.pyplot as plt\n",
        "\n",
        "import sys\n",
        "import gymnasium\n",
        "sys.modules[\"gym\"] = gymnasium\n",
        "\n",
        "import stable_baselines3\n",
        "from stable_baselines3 import DQN\n",
        "from stable_baselines3.common.results_plotter import ts2xy, load_results\n",
        "from stable_baselines3.common.callbacks import EvalCallback\n",
        "from stable_baselines3.common.env_util import make_atari_env\n",
        "\n",
        "import gymnasium as gym\n",
        "from gym import spaces\n",
        "from gym.envs.box2d.lunar_lander import *\n",
        "from gym.wrappers.monitoring.video_recorder import VideoRecorder"
      ],
      "metadata": {
        "id": "7M9IUTGSlqpB",
        "colab": {
          "base_uri": "https://localhost:8080/"
        },
        "outputId": "fe410263-a92d-4b01-8a70-9c8191475538"
      },
      "execution_count": null,
      "outputs": [
        {
          "output_type": "stream",
          "name": "stderr",
          "text": [
            "/usr/local/lib/python3.10/dist-packages/gymnasium/envs/registration.py:694: UserWarning: \u001b[33mWARN: Overriding environment CartPole-v0 already in registry.\u001b[0m\n",
            "  logger.warn(f\"Overriding environment {new_spec.id} already in registry.\")\n",
            "/usr/local/lib/python3.10/dist-packages/gymnasium/envs/registration.py:694: UserWarning: \u001b[33mWARN: Overriding environment CartPole-v1 already in registry.\u001b[0m\n",
            "  logger.warn(f\"Overriding environment {new_spec.id} already in registry.\")\n",
            "/usr/local/lib/python3.10/dist-packages/gymnasium/envs/registration.py:694: UserWarning: \u001b[33mWARN: Overriding environment MountainCar-v0 already in registry.\u001b[0m\n",
            "  logger.warn(f\"Overriding environment {new_spec.id} already in registry.\")\n",
            "/usr/local/lib/python3.10/dist-packages/gymnasium/envs/registration.py:694: UserWarning: \u001b[33mWARN: Overriding environment MountainCarContinuous-v0 already in registry.\u001b[0m\n",
            "  logger.warn(f\"Overriding environment {new_spec.id} already in registry.\")\n",
            "/usr/local/lib/python3.10/dist-packages/gymnasium/envs/registration.py:694: UserWarning: \u001b[33mWARN: Overriding environment Pendulum-v1 already in registry.\u001b[0m\n",
            "  logger.warn(f\"Overriding environment {new_spec.id} already in registry.\")\n",
            "/usr/local/lib/python3.10/dist-packages/gymnasium/envs/registration.py:694: UserWarning: \u001b[33mWARN: Overriding environment Acrobot-v1 already in registry.\u001b[0m\n",
            "  logger.warn(f\"Overriding environment {new_spec.id} already in registry.\")\n",
            "/usr/local/lib/python3.10/dist-packages/gymnasium/envs/registration.py:694: UserWarning: \u001b[33mWARN: Overriding environment phys2d/CartPole-v0 already in registry.\u001b[0m\n",
            "  logger.warn(f\"Overriding environment {new_spec.id} already in registry.\")\n",
            "/usr/local/lib/python3.10/dist-packages/gymnasium/envs/registration.py:694: UserWarning: \u001b[33mWARN: Overriding environment phys2d/CartPole-v1 already in registry.\u001b[0m\n",
            "  logger.warn(f\"Overriding environment {new_spec.id} already in registry.\")\n",
            "/usr/local/lib/python3.10/dist-packages/gymnasium/envs/registration.py:694: UserWarning: \u001b[33mWARN: Overriding environment phys2d/Pendulum-v0 already in registry.\u001b[0m\n",
            "  logger.warn(f\"Overriding environment {new_spec.id} already in registry.\")\n",
            "/usr/local/lib/python3.10/dist-packages/gymnasium/envs/registration.py:694: UserWarning: \u001b[33mWARN: Overriding environment LunarLander-v2 already in registry.\u001b[0m\n",
            "  logger.warn(f\"Overriding environment {new_spec.id} already in registry.\")\n",
            "/usr/local/lib/python3.10/dist-packages/gymnasium/envs/registration.py:694: UserWarning: \u001b[33mWARN: Overriding environment LunarLanderContinuous-v2 already in registry.\u001b[0m\n",
            "  logger.warn(f\"Overriding environment {new_spec.id} already in registry.\")\n",
            "/usr/local/lib/python3.10/dist-packages/gymnasium/envs/registration.py:694: UserWarning: \u001b[33mWARN: Overriding environment BipedalWalker-v3 already in registry.\u001b[0m\n",
            "  logger.warn(f\"Overriding environment {new_spec.id} already in registry.\")\n",
            "/usr/local/lib/python3.10/dist-packages/gymnasium/envs/registration.py:694: UserWarning: \u001b[33mWARN: Overriding environment BipedalWalkerHardcore-v3 already in registry.\u001b[0m\n",
            "  logger.warn(f\"Overriding environment {new_spec.id} already in registry.\")\n",
            "/usr/local/lib/python3.10/dist-packages/gymnasium/envs/registration.py:694: UserWarning: \u001b[33mWARN: Overriding environment CarRacing-v2 already in registry.\u001b[0m\n",
            "  logger.warn(f\"Overriding environment {new_spec.id} already in registry.\")\n",
            "/usr/local/lib/python3.10/dist-packages/gymnasium/envs/registration.py:694: UserWarning: \u001b[33mWARN: Overriding environment Blackjack-v1 already in registry.\u001b[0m\n",
            "  logger.warn(f\"Overriding environment {new_spec.id} already in registry.\")\n",
            "/usr/local/lib/python3.10/dist-packages/gymnasium/envs/registration.py:694: UserWarning: \u001b[33mWARN: Overriding environment FrozenLake-v1 already in registry.\u001b[0m\n",
            "  logger.warn(f\"Overriding environment {new_spec.id} already in registry.\")\n",
            "/usr/local/lib/python3.10/dist-packages/gymnasium/envs/registration.py:694: UserWarning: \u001b[33mWARN: Overriding environment FrozenLake8x8-v1 already in registry.\u001b[0m\n",
            "  logger.warn(f\"Overriding environment {new_spec.id} already in registry.\")\n",
            "/usr/local/lib/python3.10/dist-packages/gymnasium/envs/registration.py:694: UserWarning: \u001b[33mWARN: Overriding environment CliffWalking-v0 already in registry.\u001b[0m\n",
            "  logger.warn(f\"Overriding environment {new_spec.id} already in registry.\")\n",
            "/usr/local/lib/python3.10/dist-packages/gymnasium/envs/registration.py:694: UserWarning: \u001b[33mWARN: Overriding environment Taxi-v3 already in registry.\u001b[0m\n",
            "  logger.warn(f\"Overriding environment {new_spec.id} already in registry.\")\n",
            "/usr/local/lib/python3.10/dist-packages/gymnasium/envs/registration.py:694: UserWarning: \u001b[33mWARN: Overriding environment tabular/Blackjack-v0 already in registry.\u001b[0m\n",
            "  logger.warn(f\"Overriding environment {new_spec.id} already in registry.\")\n",
            "/usr/local/lib/python3.10/dist-packages/gymnasium/envs/registration.py:694: UserWarning: \u001b[33mWARN: Overriding environment tabular/CliffWalking-v0 already in registry.\u001b[0m\n",
            "  logger.warn(f\"Overriding environment {new_spec.id} already in registry.\")\n",
            "/usr/local/lib/python3.10/dist-packages/gymnasium/envs/registration.py:694: UserWarning: \u001b[33mWARN: Overriding environment Reacher-v2 already in registry.\u001b[0m\n",
            "  logger.warn(f\"Overriding environment {new_spec.id} already in registry.\")\n",
            "/usr/local/lib/python3.10/dist-packages/gymnasium/envs/registration.py:694: UserWarning: \u001b[33mWARN: Overriding environment Reacher-v4 already in registry.\u001b[0m\n",
            "  logger.warn(f\"Overriding environment {new_spec.id} already in registry.\")\n",
            "/usr/local/lib/python3.10/dist-packages/gymnasium/envs/registration.py:694: UserWarning: \u001b[33mWARN: Overriding environment Pusher-v2 already in registry.\u001b[0m\n",
            "  logger.warn(f\"Overriding environment {new_spec.id} already in registry.\")\n",
            "/usr/local/lib/python3.10/dist-packages/gymnasium/envs/registration.py:694: UserWarning: \u001b[33mWARN: Overriding environment Pusher-v4 already in registry.\u001b[0m\n",
            "  logger.warn(f\"Overriding environment {new_spec.id} already in registry.\")\n",
            "/usr/local/lib/python3.10/dist-packages/gymnasium/envs/registration.py:694: UserWarning: \u001b[33mWARN: Overriding environment InvertedPendulum-v2 already in registry.\u001b[0m\n",
            "  logger.warn(f\"Overriding environment {new_spec.id} already in registry.\")\n",
            "/usr/local/lib/python3.10/dist-packages/gymnasium/envs/registration.py:694: UserWarning: \u001b[33mWARN: Overriding environment InvertedPendulum-v4 already in registry.\u001b[0m\n",
            "  logger.warn(f\"Overriding environment {new_spec.id} already in registry.\")\n",
            "/usr/local/lib/python3.10/dist-packages/gymnasium/envs/registration.py:694: UserWarning: \u001b[33mWARN: Overriding environment InvertedDoublePendulum-v2 already in registry.\u001b[0m\n",
            "  logger.warn(f\"Overriding environment {new_spec.id} already in registry.\")\n",
            "/usr/local/lib/python3.10/dist-packages/gymnasium/envs/registration.py:694: UserWarning: \u001b[33mWARN: Overriding environment InvertedDoublePendulum-v4 already in registry.\u001b[0m\n",
            "  logger.warn(f\"Overriding environment {new_spec.id} already in registry.\")\n",
            "/usr/local/lib/python3.10/dist-packages/gymnasium/envs/registration.py:694: UserWarning: \u001b[33mWARN: Overriding environment HalfCheetah-v2 already in registry.\u001b[0m\n",
            "  logger.warn(f\"Overriding environment {new_spec.id} already in registry.\")\n",
            "/usr/local/lib/python3.10/dist-packages/gymnasium/envs/registration.py:694: UserWarning: \u001b[33mWARN: Overriding environment HalfCheetah-v3 already in registry.\u001b[0m\n",
            "  logger.warn(f\"Overriding environment {new_spec.id} already in registry.\")\n",
            "/usr/local/lib/python3.10/dist-packages/gymnasium/envs/registration.py:694: UserWarning: \u001b[33mWARN: Overriding environment HalfCheetah-v4 already in registry.\u001b[0m\n",
            "  logger.warn(f\"Overriding environment {new_spec.id} already in registry.\")\n",
            "/usr/local/lib/python3.10/dist-packages/gymnasium/envs/registration.py:694: UserWarning: \u001b[33mWARN: Overriding environment Hopper-v2 already in registry.\u001b[0m\n",
            "  logger.warn(f\"Overriding environment {new_spec.id} already in registry.\")\n",
            "/usr/local/lib/python3.10/dist-packages/gymnasium/envs/registration.py:694: UserWarning: \u001b[33mWARN: Overriding environment Hopper-v3 already in registry.\u001b[0m\n",
            "  logger.warn(f\"Overriding environment {new_spec.id} already in registry.\")\n",
            "/usr/local/lib/python3.10/dist-packages/gymnasium/envs/registration.py:694: UserWarning: \u001b[33mWARN: Overriding environment Hopper-v4 already in registry.\u001b[0m\n",
            "  logger.warn(f\"Overriding environment {new_spec.id} already in registry.\")\n",
            "/usr/local/lib/python3.10/dist-packages/gymnasium/envs/registration.py:694: UserWarning: \u001b[33mWARN: Overriding environment Swimmer-v2 already in registry.\u001b[0m\n",
            "  logger.warn(f\"Overriding environment {new_spec.id} already in registry.\")\n",
            "/usr/local/lib/python3.10/dist-packages/gymnasium/envs/registration.py:694: UserWarning: \u001b[33mWARN: Overriding environment Swimmer-v3 already in registry.\u001b[0m\n",
            "  logger.warn(f\"Overriding environment {new_spec.id} already in registry.\")\n",
            "/usr/local/lib/python3.10/dist-packages/gymnasium/envs/registration.py:694: UserWarning: \u001b[33mWARN: Overriding environment Swimmer-v4 already in registry.\u001b[0m\n",
            "  logger.warn(f\"Overriding environment {new_spec.id} already in registry.\")\n",
            "/usr/local/lib/python3.10/dist-packages/gymnasium/envs/registration.py:694: UserWarning: \u001b[33mWARN: Overriding environment Walker2d-v2 already in registry.\u001b[0m\n",
            "  logger.warn(f\"Overriding environment {new_spec.id} already in registry.\")\n",
            "/usr/local/lib/python3.10/dist-packages/gymnasium/envs/registration.py:694: UserWarning: \u001b[33mWARN: Overriding environment Walker2d-v3 already in registry.\u001b[0m\n",
            "  logger.warn(f\"Overriding environment {new_spec.id} already in registry.\")\n",
            "/usr/local/lib/python3.10/dist-packages/gymnasium/envs/registration.py:694: UserWarning: \u001b[33mWARN: Overriding environment Walker2d-v4 already in registry.\u001b[0m\n",
            "  logger.warn(f\"Overriding environment {new_spec.id} already in registry.\")\n",
            "/usr/local/lib/python3.10/dist-packages/gymnasium/envs/registration.py:694: UserWarning: \u001b[33mWARN: Overriding environment Ant-v2 already in registry.\u001b[0m\n",
            "  logger.warn(f\"Overriding environment {new_spec.id} already in registry.\")\n",
            "/usr/local/lib/python3.10/dist-packages/gymnasium/envs/registration.py:694: UserWarning: \u001b[33mWARN: Overriding environment Ant-v3 already in registry.\u001b[0m\n",
            "  logger.warn(f\"Overriding environment {new_spec.id} already in registry.\")\n",
            "/usr/local/lib/python3.10/dist-packages/gymnasium/envs/registration.py:694: UserWarning: \u001b[33mWARN: Overriding environment Ant-v4 already in registry.\u001b[0m\n",
            "  logger.warn(f\"Overriding environment {new_spec.id} already in registry.\")\n",
            "/usr/local/lib/python3.10/dist-packages/gymnasium/envs/registration.py:694: UserWarning: \u001b[33mWARN: Overriding environment Humanoid-v2 already in registry.\u001b[0m\n",
            "  logger.warn(f\"Overriding environment {new_spec.id} already in registry.\")\n",
            "/usr/local/lib/python3.10/dist-packages/gymnasium/envs/registration.py:694: UserWarning: \u001b[33mWARN: Overriding environment Humanoid-v3 already in registry.\u001b[0m\n",
            "  logger.warn(f\"Overriding environment {new_spec.id} already in registry.\")\n",
            "/usr/local/lib/python3.10/dist-packages/gymnasium/envs/registration.py:694: UserWarning: \u001b[33mWARN: Overriding environment Humanoid-v4 already in registry.\u001b[0m\n",
            "  logger.warn(f\"Overriding environment {new_spec.id} already in registry.\")\n",
            "/usr/local/lib/python3.10/dist-packages/gymnasium/envs/registration.py:694: UserWarning: \u001b[33mWARN: Overriding environment HumanoidStandup-v2 already in registry.\u001b[0m\n",
            "  logger.warn(f\"Overriding environment {new_spec.id} already in registry.\")\n",
            "/usr/local/lib/python3.10/dist-packages/gymnasium/envs/registration.py:694: UserWarning: \u001b[33mWARN: Overriding environment HumanoidStandup-v4 already in registry.\u001b[0m\n",
            "  logger.warn(f\"Overriding environment {new_spec.id} already in registry.\")\n",
            "/usr/local/lib/python3.10/dist-packages/gymnasium/envs/registration.py:694: UserWarning: \u001b[33mWARN: Overriding environment GymV21Environment-v0 already in registry.\u001b[0m\n",
            "  logger.warn(f\"Overriding environment {new_spec.id} already in registry.\")\n",
            "/usr/local/lib/python3.10/dist-packages/gymnasium/envs/registration.py:694: UserWarning: \u001b[33mWARN: Overriding environment GymV26Environment-v0 already in registry.\u001b[0m\n",
            "  logger.warn(f\"Overriding environment {new_spec.id} already in registry.\")\n"
          ]
        }
      ]
    },
    {
      "cell_type": "code",
      "source": [
        "!sudo apt-get install xvfb"
      ],
      "metadata": {
        "colab": {
          "base_uri": "https://localhost:8080/"
        },
        "id": "hrmloztjEhyd",
        "outputId": "e16db1ec-b864-4c69-8d85-2a5042dfd74e"
      },
      "execution_count": null,
      "outputs": [
        {
          "output_type": "stream",
          "name": "stdout",
          "text": [
            "Reading package lists... Done\n",
            "Building dependency tree... Done\n",
            "Reading state information... Done\n",
            "The following additional packages will be installed:\n",
            "  libfontenc1 libxfont2 libxkbfile1 x11-xkb-utils xfonts-base xfonts-encodings\n",
            "  xfonts-utils xserver-common\n",
            "The following NEW packages will be installed:\n",
            "  libfontenc1 libxfont2 libxkbfile1 x11-xkb-utils xfonts-base xfonts-encodings\n",
            "  xfonts-utils xserver-common xvfb\n",
            "0 upgraded, 9 newly installed, 0 to remove and 49 not upgraded.\n",
            "Need to get 7,813 kB of archives.\n",
            "After this operation, 11.9 MB of additional disk space will be used.\n",
            "Get:1 http://archive.ubuntu.com/ubuntu jammy/main amd64 libfontenc1 amd64 1:1.1.4-1build3 [14.7 kB]\n",
            "Get:2 http://archive.ubuntu.com/ubuntu jammy/main amd64 libxfont2 amd64 1:2.0.5-1build1 [94.5 kB]\n",
            "Get:3 http://archive.ubuntu.com/ubuntu jammy/main amd64 libxkbfile1 amd64 1:1.1.0-1build3 [71.8 kB]\n",
            "Get:4 http://archive.ubuntu.com/ubuntu jammy/main amd64 x11-xkb-utils amd64 7.7+5build4 [172 kB]\n",
            "Get:5 http://archive.ubuntu.com/ubuntu jammy/main amd64 xfonts-encodings all 1:1.0.5-0ubuntu2 [578 kB]\n",
            "Get:6 http://archive.ubuntu.com/ubuntu jammy/main amd64 xfonts-utils amd64 1:7.7+6build2 [94.6 kB]\n",
            "Get:7 http://archive.ubuntu.com/ubuntu jammy/main amd64 xfonts-base all 1:1.0.5 [5,896 kB]\n",
            "Get:8 http://archive.ubuntu.com/ubuntu jammy-updates/main amd64 xserver-common all 2:21.1.4-2ubuntu1.7~22.04.11 [28.6 kB]\n",
            "Get:9 http://archive.ubuntu.com/ubuntu jammy-updates/universe amd64 xvfb amd64 2:21.1.4-2ubuntu1.7~22.04.11 [863 kB]\n",
            "Fetched 7,813 kB in 1s (7,529 kB/s)\n",
            "debconf: unable to initialize frontend: Dialog\n",
            "debconf: (No usable dialog-like program is installed, so the dialog based frontend cannot be used. at /usr/share/perl5/Debconf/FrontEnd/Dialog.pm line 78, <> line 9.)\n",
            "debconf: falling back to frontend: Readline\n",
            "debconf: unable to initialize frontend: Readline\n",
            "debconf: (This frontend requires a controlling tty.)\n",
            "debconf: falling back to frontend: Teletype\n",
            "dpkg-preconfigure: unable to re-open stdin: \n",
            "Selecting previously unselected package libfontenc1:amd64.\n",
            "(Reading database ... 124358 files and directories currently installed.)\n",
            "Preparing to unpack .../0-libfontenc1_1%3a1.1.4-1build3_amd64.deb ...\n",
            "Unpacking libfontenc1:amd64 (1:1.1.4-1build3) ...\n",
            "Selecting previously unselected package libxfont2:amd64.\n",
            "Preparing to unpack .../1-libxfont2_1%3a2.0.5-1build1_amd64.deb ...\n",
            "Unpacking libxfont2:amd64 (1:2.0.5-1build1) ...\n",
            "Selecting previously unselected package libxkbfile1:amd64.\n",
            "Preparing to unpack .../2-libxkbfile1_1%3a1.1.0-1build3_amd64.deb ...\n",
            "Unpacking libxkbfile1:amd64 (1:1.1.0-1build3) ...\n",
            "Selecting previously unselected package x11-xkb-utils.\n",
            "Preparing to unpack .../3-x11-xkb-utils_7.7+5build4_amd64.deb ...\n",
            "Unpacking x11-xkb-utils (7.7+5build4) ...\n",
            "Selecting previously unselected package xfonts-encodings.\n",
            "Preparing to unpack .../4-xfonts-encodings_1%3a1.0.5-0ubuntu2_all.deb ...\n",
            "Unpacking xfonts-encodings (1:1.0.5-0ubuntu2) ...\n",
            "Selecting previously unselected package xfonts-utils.\n",
            "Preparing to unpack .../5-xfonts-utils_1%3a7.7+6build2_amd64.deb ...\n",
            "Unpacking xfonts-utils (1:7.7+6build2) ...\n",
            "Selecting previously unselected package xfonts-base.\n",
            "Preparing to unpack .../6-xfonts-base_1%3a1.0.5_all.deb ...\n",
            "Unpacking xfonts-base (1:1.0.5) ...\n",
            "Selecting previously unselected package xserver-common.\n",
            "Preparing to unpack .../7-xserver-common_2%3a21.1.4-2ubuntu1.7~22.04.11_all.deb ...\n",
            "Unpacking xserver-common (2:21.1.4-2ubuntu1.7~22.04.11) ...\n",
            "Selecting previously unselected package xvfb.\n",
            "Preparing to unpack .../8-xvfb_2%3a21.1.4-2ubuntu1.7~22.04.11_amd64.deb ...\n",
            "Unpacking xvfb (2:21.1.4-2ubuntu1.7~22.04.11) ...\n",
            "Setting up libfontenc1:amd64 (1:1.1.4-1build3) ...\n",
            "Setting up xfonts-encodings (1:1.0.5-0ubuntu2) ...\n",
            "Setting up libxkbfile1:amd64 (1:1.1.0-1build3) ...\n",
            "Setting up libxfont2:amd64 (1:2.0.5-1build1) ...\n",
            "Setting up x11-xkb-utils (7.7+5build4) ...\n",
            "Setting up xfonts-utils (1:7.7+6build2) ...\n",
            "Setting up xfonts-base (1:1.0.5) ...\n",
            "Setting up xserver-common (2:21.1.4-2ubuntu1.7~22.04.11) ...\n",
            "Setting up xvfb (2:21.1.4-2ubuntu1.7~22.04.11) ...\n",
            "Processing triggers for man-db (2.10.2-1) ...\n",
            "Processing triggers for fontconfig (2.13.1-4.2ubuntu5) ...\n",
            "Processing triggers for libc-bin (2.35-0ubuntu3.4) ...\n",
            "/sbin/ldconfig.real: /usr/local/lib/libtbbbind_2_5.so.3 is not a symbolic link\n",
            "\n",
            "/sbin/ldconfig.real: /usr/local/lib/libtbb.so.12 is not a symbolic link\n",
            "\n",
            "/sbin/ldconfig.real: /usr/local/lib/libur_loader.so.0 is not a symbolic link\n",
            "\n",
            "/sbin/ldconfig.real: /usr/local/lib/libtbbbind_2_0.so.3 is not a symbolic link\n",
            "\n",
            "/sbin/ldconfig.real: /usr/local/lib/libtbbmalloc_proxy.so.2 is not a symbolic link\n",
            "\n",
            "/sbin/ldconfig.real: /usr/local/lib/libur_adapter_opencl.so.0 is not a symbolic link\n",
            "\n",
            "/sbin/ldconfig.real: /usr/local/lib/libtbbbind.so.3 is not a symbolic link\n",
            "\n",
            "/sbin/ldconfig.real: /usr/local/lib/libtbbmalloc.so.2 is not a symbolic link\n",
            "\n",
            "/sbin/ldconfig.real: /usr/local/lib/libur_adapter_level_zero.so.0 is not a symbolic link\n",
            "\n"
          ]
        }
      ]
    },
    {
      "cell_type": "code",
      "source": [
        "from IPython.display import HTML\n",
        "from base64 import b64encode\n",
        "from pyvirtualdisplay import Display\n",
        "\n",
        "\n",
        "os.makedirs(\"./video\", exist_ok=True)\n",
        "\n",
        "display = Display(visible=False, size=(1400, 900))\n",
        "_ = display.start()\n",
        "\n",
        "\n",
        "def render_mp4(videopath: str) -> str:\n",
        "  mp4 = open(videopath, 'rb').read()\n",
        "  base64_encoded_mp4 = b64encode(mp4).decode()\n",
        "  return f'<video width=400 controls><source src=\"data:video/mp4;' \\\n",
        "         f'base64,{base64_encoded_mp4}\" type=\"video/mp4\"></video>'"
      ],
      "metadata": {
        "id": "ffL36l-Oq509"
      },
      "execution_count": null,
      "outputs": []
    },
    {
      "cell_type": "code",
      "source": [
        "nn_layers = [128, 128]\n",
        "\n",
        "learning_rate = 0.00025"
      ],
      "metadata": {
        "id": "rMA7rCytrLGY"
      },
      "execution_count": null,
      "outputs": []
    },
    {
      "cell_type": "code",
      "source": [
        "log_dir = \"/tmp/gym/\"\n",
        "os.makedirs(log_dir, exist_ok=True)\n",
        "\n",
        "env_name = 'LunarLander-v2'\n",
        "env = gym.make(env_name)\n",
        "\n",
        "env = stable_baselines3.common.monitor.Monitor(env, log_dir )\n",
        "\n",
        "callback = EvalCallback(env, log_path=log_dir, deterministic=True)  # For evaluating the performance of the agent periodically and logging the results.\n",
        "policy_kwargs = dict(activation_fn=torch.nn.ReLU,\n",
        "                     net_arch=nn_layers)\n",
        "model = DQN(\"MlpPolicy\", env,policy_kwargs = policy_kwargs,\n",
        "            learning_rate=learning_rate,\n",
        "            batch_size=128,  # for simplicity, we are not doing batch update.\n",
        "            buffer_size=10000,  # size of experience of replay buffer. Set to 1 as batch update is not done\n",
        "            learning_starts=1000,  # learning starts immediately!\n",
        "            gamma=0.99,  # discount facto. range is between 0 and 1.\n",
        "            tau = 1,  # the soft update coefficient for updating the target network\n",
        "            target_update_interval=250,  # update the target network immediately.\n",
        "            train_freq=(4,\"step\"),  # train the network at every step.\n",
        "            max_grad_norm = 10,  # the maximum value for the gradient clipping\n",
        "            exploration_initial_eps = 1,  # initial value of random action probability\n",
        "            exploration_fraction = 0.1,  # fraction of entire training period over which the exploration rate is reduced\n",
        "            exploration_final_eps= 0.05,\n",
        "            gradient_steps = -1,  # number of gradient steps\n",
        "            seed = 1,  # seed for the pseudo random generators\n",
        "            verbose=0)  # Set verbose to 1 to observe training logs. We encourage you to set the verbose to 1.\n"
      ],
      "metadata": {
        "id": "Gofu1BITrQKd"
      },
      "execution_count": null,
      "outputs": []
    },
    {
      "cell_type": "code",
      "source": [
        "env_name = 'LunarLander-v2'\n",
        "env = gym.make(env_name)\n",
        "print('State shape: ', env.observation_space.shape)\n",
        "print('Number of actions: ', env.action_space.n)"
      ],
      "metadata": {
        "colab": {
          "base_uri": "https://localhost:8080/"
        },
        "id": "4u8VRExmrZJO",
        "outputId": "74c4e2e2-18e3-4bec-c333-4562092f238c"
      },
      "execution_count": null,
      "outputs": [
        {
          "output_type": "stream",
          "name": "stdout",
          "text": [
            "State shape:  (8,)\n",
            "Number of actions:  4\n"
          ]
        }
      ]
    },
    {
      "cell_type": "code",
      "source": [
        "env = gym.make(env_name, render_mode=\"rgb_array\")\n",
        "vid = VideoRecorder(env, path=f\"video/{env_name}_pretraining.mp4\")\n",
        "\n",
        "observation = env.reset()[0]\n",
        "total_reward = 0\n",
        "done = False\n",
        "while not done:\n",
        "  frame = env.render()\n",
        "  vid.capture_frame()\n",
        "  action, states = model.predict(observation, deterministic=True)\n",
        "  observation, reward, done, info, _ = env.step(action)\n",
        "  total_reward += reward\n",
        "vid.close()\n",
        "env.close()\n",
        "print(f\"\\nTotal reward: {total_reward}\")\n",
        "\n",
        "# show video\n",
        "html = render_mp4(f\"video/{env_name}_pretraining.mp4\")\n",
        "HTML(html)"
      ],
      "metadata": {
        "colab": {
          "base_uri": "https://localhost:8080/",
          "height": 410
        },
        "id": "iHJMTNxPrjb0",
        "outputId": "f6e3a5f3-63d8-4876-9f0f-8ebede243118"
      },
      "execution_count": null,
      "outputs": [
        {
          "output_type": "stream",
          "name": "stdout",
          "text": [
            "Moviepy - Building video video/LunarLander-v2_pretraining.mp4.\n",
            "Moviepy - Writing video video/LunarLander-v2_pretraining.mp4\n",
            "\n"
          ]
        },
        {
          "output_type": "stream",
          "name": "stderr",
          "text": []
        },
        {
          "output_type": "stream",
          "name": "stdout",
          "text": [
            "Moviepy - Done !\n",
            "Moviepy - video ready video/LunarLander-v2_pretraining.mp4\n",
            "\n",
            "Total reward: -328.57990497071887\n"
          ]
        },
        {
          "output_type": "execute_result",
          "data": {
            "text/plain": [
              "<IPython.core.display.HTML object>"
            ],
            "text/html": [
              "<video width=400 controls><source src=\"data:video/mp4;base64,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\" type=\"video/mp4\"></video>"
            ]
          },
          "metadata": {},
          "execution_count": 13
        }
      ]
    },
    {
      "cell_type": "code",
      "source": [
        "model.learn(total_timesteps=1, log_interval=10, callback=callback)"
      ],
      "metadata": {
        "colab": {
          "base_uri": "https://localhost:8080/"
        },
        "id": "od52mWtUrsjN",
        "outputId": "0c0c219e-b920-4afc-b813-b76b626ecab1"
      },
      "execution_count": null,
      "outputs": [
        {
          "output_type": "execute_result",
          "data": {
            "text/plain": [
              "<stable_baselines3.dqn.dqn.DQN at 0x7e30acdabc70>"
            ]
          },
          "metadata": {},
          "execution_count": 27
        }
      ]
    },
    {
      "cell_type": "code",
      "source": [
        "env = gym.make(env_name, render_mode=\"rgb_array\")\n",
        "vid = VideoRecorder(env, path=f\"video/{env_name}_learned.mp4\")\n",
        "observation = env.reset()[0]\n",
        "\n",
        "total_reward = 0\n",
        "done = False\n",
        "while not done:\n",
        "  frame = env.render()\n",
        "  vid.capture_frame()\n",
        "  action, states = model.predict(observation, deterministic=True)\n",
        "  observation, reward, done, info, _ = env.step(action)\n",
        "  total_reward += reward\n",
        "vid.close()\n",
        "env.close()\n",
        "print(f\"\\nTotal reward: {total_reward}\")\n",
        "\n",
        "# show video\n",
        "html = render_mp4(f\"video/{env_name}_learned.mp4\")\n",
        "HTML(html)"
      ],
      "metadata": {
        "colab": {
          "base_uri": "https://localhost:8080/",
          "height": 410
        },
        "id": "AIXSX5jCr521",
        "outputId": "6f88c284-256d-41e7-db33-d064f6ba1de9"
      },
      "execution_count": null,
      "outputs": [
        {
          "output_type": "stream",
          "name": "stdout",
          "text": [
            "Moviepy - Building video video/LunarLander-v2_learned.mp4.\n",
            "Moviepy - Writing video video/LunarLander-v2_learned.mp4\n",
            "\n"
          ]
        },
        {
          "output_type": "stream",
          "name": "stderr",
          "text": []
        },
        {
          "output_type": "stream",
          "name": "stdout",
          "text": [
            "Moviepy - Done !\n",
            "Moviepy - video ready video/LunarLander-v2_learned.mp4\n",
            "\n",
            "Total reward: 260.89084178749476\n"
          ]
        },
        {
          "output_type": "execute_result",
          "data": {
            "text/plain": [
              "<IPython.core.display.HTML object>"
            ],
            "text/html": [
              "<video width=400 controls><source src=\"data:video/mp4;base64,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\" type=\"video/mp4\"></video>"
            ]
          },
          "metadata": {},
          "execution_count": 31
        }
      ]
    }
  ]
}